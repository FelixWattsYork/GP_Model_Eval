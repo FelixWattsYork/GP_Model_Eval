{
 "cells": [
  {
   "cell_type": "code",
   "execution_count": 21,
   "id": "19994587",
   "metadata": {},
   "outputs": [],
   "source": [
    "# Code to test reading a gs2 input file into pyrokinetics and then running the data with the GP model\n"
   ]
  },
  {
   "cell_type": "code",
   "execution_count": 22,
   "id": "d3b3fc22",
   "metadata": {},
   "outputs": [],
   "source": [
    "import pandas as pd\n",
    "import os\n",
    "import sys\n",
    "import torch\n",
    "from pyrokinetics import Pyro\n",
    "import numpy as np"
   ]
  },
  {
   "cell_type": "code",
   "execution_count": 23,
   "id": "f3896de0",
   "metadata": {},
   "outputs": [
    {
     "name": "stdout",
     "output_type": "stream",
     "text": [
      "M12  doesnt exist\n",
      "M32  doesnt exist\n",
      "Loading:  /home/Felix/Documents/Physics_Work/Project_Codes/UKAEAdigiLab_FullGyro/8d_loRes/output_growth_rate_log_warping_True_kernel_M52.pt\n",
      "M12  doesnt exist\n",
      "Loading:  /home/Felix/Documents/Physics_Work/Project_Codes/UKAEAdigiLab_FullGyro/8d_loRes/output_mode_frequency_log_warping_True_kernel_M32.pt\n",
      "M52  doesnt exist\n",
      "M12  doesnt exist\n",
      "Loading:  /home/Felix/Documents/Physics_Work/Project_Codes/UKAEAdigiLab_FullGyro/8d_loRes/output_kperp2_phi_log_warping_True_kernel_M32.pt\n",
      "M52  doesnt exist\n",
      "Loading:  /home/Felix/Documents/Physics_Work/Project_Codes/UKAEAdigiLab_FullGyro/8d_loRes/output_kperp2_apa_log_warping_True_kernel_M12.pt\n",
      "M32  doesnt exist\n",
      "M52  doesnt exist\n",
      "Loading:  /home/Felix/Documents/Physics_Work/Project_Codes/UKAEAdigiLab_FullGyro/8d_loRes/output_kperp2_bpar_log_warping_True_kernel_M12.pt\n",
      "M32  doesnt exist\n",
      "M52  doesnt exist\n",
      "M12  doesnt exist\n",
      "M32  doesnt exist\n",
      "Loading:  /home/Felix/Documents/Physics_Work/Project_Codes/UKAEAdigiLab_FullGyro/8d_loRes/output_totIonFlux_log_warping_True_kernel_M52.pt\n",
      "M12  doesnt exist\n",
      "Loading:  /home/Felix/Documents/Physics_Work/Project_Codes/UKAEAdigiLab_FullGyro/8d_loRes/output_totElecFlux_log_warping_True_kernel_M32.pt\n",
      "M52  doesnt exist\n",
      "Loading:  /home/Felix/Documents/Physics_Work/Project_Codes/UKAEAdigiLab_FullGyro/8d_loRes/output_totPartFlux_log_warping_True_kernel_M12.pt\n",
      "M32  doesnt exist\n",
      "M52  doesnt exist\n",
      "M12  doesnt exist\n",
      "Loading:  /home/Felix/Documents/Physics_Work/Project_Codes/UKAEAdigiLab_FullGyro/8d_loRes/output_apa_phi_log_warping_True_kernel_M32.pt\n",
      "M52  doesnt exist\n",
      "M12  doesnt exist\n",
      "Loading:  /home/Felix/Documents/Physics_Work/Project_Codes/UKAEAdigiLab_FullGyro/8d_loRes/output_bpar_phi_log_warping_True_kernel_M32.pt\n",
      "M52  doesnt exist\n",
      "All models loaded\n"
     ]
    }
   ],
   "source": [
    "# helperfunctions path\n",
    "sys.path.append(\"/home/Felix/Documents/Physics_Work/Project_Codes/UKAEAdigiLab_FullGyro/digiLabScripts/\")\n",
    "import helperfunctions as hf\n",
    "\n",
    "# models path\n",
    "models_path = \"/home/Felix/Documents/Physics_Work/Project_Codes/UKAEAdigiLab_FullGyro/8d_loRes/\"\n",
    "models,name = hf.LoadModels(models_path)"
   ]
  },
  {
   "cell_type": "code",
   "execution_count": 24,
   "id": "1346af5d",
   "metadata": {},
   "outputs": [],
   "source": [
    "Template_Path = \"/home/Felix/Documents/Physics_Work/Project_Codes/GP_Model_Eval/GS2/Templates/r1.in\"\n",
    "pyro = Pyro(gk_file=Template_Path)"
   ]
  },
  {
   "cell_type": "code",
   "execution_count": 25,
   "id": "6c7347e9",
   "metadata": {},
   "outputs": [
    {
     "name": "stdout",
     "output_type": "stream",
     "text": [
      "<class 'pyrokinetics.local_geometry.miller.LocalGeometryMiller'>(\n",
      "type  = Miller,\n",
      "psi_n = 0.5 dimensionless\n",
      "rho = 0.32727272727272727 lref_minor_radius\n",
      "Rmaj = 2.0769104202116178 lref_minor_radius\n",
      "Z0 = 0.0 lref_minor_radius\n",
      "a_minor = 1.0 lref_minor_radius\n",
      "Fpsi = 0.0 bref_Bgeo * lref_minor_radius\n",
      "B0 = 2.543696588214988 bref_Bgeo\n",
      "q = 2.4573055385933587 dimensionless\n",
      "shat = 0.2660607875234582 dimensionless\n",
      "beta_prime = -0.2804934863349486 bref_Bgeo ** 2 / lref_minor_radius\n",
      "dpsidr = 0.3343767252352434 bref_Bgeo * lref_minor_radius\n",
      "bt_ccw = 1 dimensionless\n",
      "ip_ccw = 1 dimensionless\n",
      "kappa = 2.595545130100952 dimensionless\n",
      "s_kappa = -0.02166822938851402 dimensionless\n",
      "delta = 0.14730753319387685 dimensionless\n",
      "s_delta = 0.5141396831717058 dimensionless\n",
      "shift = -0.22831115463895346 dimensionless\n",
      "dZ0dr = 0.0 dimensionless\n",
      "bunit_over_b0 = 2.6658179874746506 dimensionless\n"
     ]
    }
   ],
   "source": [
    "print(pyro.local_geometry)"
   ]
  },
  {
   "cell_type": "code",
   "execution_count": 26,
   "id": "3b03f6a8",
   "metadata": {},
   "outputs": [
    {
     "name": "stdout",
     "output_type": "stream",
     "text": [
      "{'_already_warned': False,\n",
      " '_metadata': {'object_created': '2025-10-09 13:52:23.162226',\n",
      "               'object_type': 'Numerics',\n",
      "               'object_uuid': '6478308c-c0c8-477f-8595-6f700bee82e2',\n",
      "               'session_started': '2025-10-09 13:36:02.585939',\n",
      "               'session_uuid': 'aa95f1e2-2aa9-4686-9f14-f88d7c11b14f',\n",
      "               'software_name': 'Pyrokinetics',\n",
      "               'software_version': '0.8.1.dev129+g5d84018a',\n",
      "               'title': 'Numerics'},\n",
      " 'apar': True,\n",
      " 'beta': <Quantity(0.1545501336782672, 'beta_ref_ed_Bgeo')>,\n",
      " 'bpar': True,\n",
      " 'delta_time': <Quantity(0.1, 'lref_minor_radius / vref_most_probable_d_d')>,\n",
      " 'gamma_exb': <Quantity(0.0, 'vref_most_probable_d_d / lref_minor_radius')>,\n",
      " 'kx': <Quantity(0.0, '1 / rhoref_custom')>,\n",
      " 'ky': <Quantity(0.0394493641067905, '1 / rhoref_custom')>,\n",
      " 'max_time': <Quantity(1000.0, 'lref_minor_radius / vref_most_probable_d_d')>,\n",
      " 'nenergy': 10,\n",
      " 'nkx': 1,\n",
      " 'nky': 1,\n",
      " 'nonlinear': False,\n",
      " 'nperiod': 2,\n",
      " 'npitch': 10,\n",
      " 'ntheta': 128,\n",
      " 'phi': True,\n",
      " 'theta0': <Quantity(0.0, 'radian')>}\n"
     ]
    }
   ],
   "source": [
    "print(pyro.numerics)"
   ]
  },
  {
   "cell_type": "code",
   "execution_count": 27,
   "id": "984aa1cb",
   "metadata": {},
   "outputs": [
    {
     "name": "stdout",
     "output_type": "stream",
     "text": [
      "LocalSpecies({'names': ['electron', 'ion1'], 'pressure': <Quantity(2.022305322692549, 'tref_electron * nref_electron')>, 'inverse_lp': <Quantity(0.7281886766702708, '1 / lref_minor_radius')>, 'electron': SingleLocalSpecies(\n",
      "    name        = electron,\n",
      "    mass        = 0.0002723085105 mref_deuterium,\n",
      "    z           = -1.0 elementary_charge,\n",
      "    dens        = 1.0 nref_electron,\n",
      "    temp        = 1.0 tref_electron,\n",
      "    omega0      = 0.0 vref_nrl / lref_minor_radius,\n",
      "    nu          = 0.019789503865460453 vref_nrl / lref_minor_radius,\n",
      "    inverse_ln  = -0.19845570222415057 / lref_minor_radius,\n",
      "    inverse_lt  = 0.9250000088807746 / lref_minor_radius\n",
      "    domega_drho = -0.0 vref_nrl / lref_minor_radius ** 2\n",
      "), 'ion1': SingleLocalSpecies(\n",
      "    name        = ion1,\n",
      "    mass        = 1.0 mref_deuterium,\n",
      "    z           = 1.0 elementary_charge,\n",
      "    dens        = 1.0 nref_electron,\n",
      "    temp        = 1.022305322692549 tref_electron,\n",
      "    omega0      = 0.0 vref_nrl / lref_minor_radius,\n",
      "    nu          = 0.000379233982721384 vref_nrl / lref_minor_radius,\n",
      "    inverse_ln  = -0.19845570222415057 / lref_minor_radius,\n",
      "    inverse_lt  = 0.9282528709732024 / lref_minor_radius\n",
      "    domega_drho = -0.0 vref_nrl / lref_minor_radius ** 2\n",
      "), 'zeff': <Quantity(1.0, 'elementary_charge')>}, _aliases={}, _vars={})\n"
     ]
    }
   ],
   "source": [
    "print(pyro.local_species)"
   ]
  },
  {
   "cell_type": "code",
   "execution_count": 43,
   "id": "cc583556",
   "metadata": {},
   "outputs": [
    {
     "name": "stdout",
     "output_type": "stream",
     "text": [
      "[np.float64(-3.232737350786186), array(2.45730554), array(0.26606079), array(0.15455013), array(0.92825287), array(0.92500001), array(-0.1984557), array(0.0197895)]\n"
     ]
    }
   ],
   "source": [
    "# Magnetic geometry\n",
    "ky_log = np.log(pyro.numerics[\"ky\"].magnitude)\n",
    "q      = pyro.local_geometry[\"q\"].magnitude\n",
    "shat   = pyro.local_geometry[\"shat\"].magnitude\n",
    "beta   = pyro.numerics[\"beta\"].magnitude\n",
    "\n",
    "# Species gradients\n",
    "deuterium_temp_gradient = pyro.local_species[\"ion1\"][\"inverse_lt\"].magnitude   # d ln T_i / d rho\n",
    "electron_temp_gradient  = pyro.local_species[\"electron\"][\"inverse_lt\"].magnitude    # d ln T_e / d rho\n",
    "electron_dens_gradient  = pyro.local_species[\"electron\"][\"inverse_ln\"].magnitude    # d ln n_e / d rho\n",
    "\n",
    "# Electron collisionality\n",
    "electron_nu = pyro.local_species[\"electron\"][\"nu\"].magnitude\n",
    "print([ky_log,  q,  shat,  beta,  deuterium_temp_gradient,\n",
    "          electron_temp_gradient,  electron_dens_gradient ,  electron_nu])"
   ]
  },
  {
   "cell_type": "code",
   "execution_count": 44,
   "id": "7537c3d8",
   "metadata": {},
   "outputs": [],
   "source": [
    "inputs = torch.Tensor([[ky_log,  q,  shat,  beta,  deuterium_temp_gradient,\n",
    "          electron_temp_gradient,  electron_dens_gradient ,  electron_nu]])"
   ]
  },
  {
   "cell_type": "code",
   "execution_count": 45,
   "id": "6fd65fa4",
   "metadata": {},
   "outputs": [],
   "source": [
    "growth_rate_log,growth_rate_err_log = models[\"growth_rate_log\"](inputs)\n",
    "model_frequency_log,model_frequency_err_log = models[\"mode_frequency_log\"](inputs)"
   ]
  },
  {
   "cell_type": "code",
   "execution_count": 46,
   "id": "dcb97a70",
   "metadata": {},
   "outputs": [
    {
     "name": "stdout",
     "output_type": "stream",
     "text": [
      "Predicted growth rate (log):  tensor([[-0.6985]], dtype=torch.float64)\n",
      "Predicted growth rate error (log):  tensor([[0.2407]], dtype=torch.float64)\n",
      "Predicted mode frequency (log):  tensor([[-0.4893]], dtype=torch.float64)\n",
      "Predicted mode frequency error (log):  tensor([[0.6052]], dtype=torch.float64)\n"
     ]
    }
   ],
   "source": [
    "#Gave Sensible outputs\n",
    "print(\"Predicted growth rate (log): \", growth_rate_log)\n",
    "print(\"Predicted growth rate error (log): \", growth_rate_err_log)\n",
    "print(\"Predicted mode frequency (log): \", model_frequency_log)\n",
    "print(\"Predicted mode frequency error (log): \", model_frequency_err_log)"
   ]
  }
 ],
 "metadata": {
  "kernelspec": {
   "display_name": ".venv",
   "language": "python",
   "name": "python3"
  },
  "language_info": {
   "codemirror_mode": {
    "name": "ipython",
    "version": 3
   },
   "file_extension": ".py",
   "mimetype": "text/x-python",
   "name": "python",
   "nbconvert_exporter": "python",
   "pygments_lexer": "ipython3",
   "version": "3.13.7"
  }
 },
 "nbformat": 4,
 "nbformat_minor": 5
}
