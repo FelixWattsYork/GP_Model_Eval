{
 "cells": [
  {
   "cell_type": "code",
   "execution_count": 2,
   "id": "beab494f",
   "metadata": {},
   "outputs": [],
   "source": [
    "# this is a document for practicing xarray\n",
    "import xarray as xr \n",
    "import numpy as np\n",
    "import pandas as pd"
   ]
  },
  {
   "cell_type": "code",
   "execution_count": 3,
   "id": "ba96dcd5",
   "metadata": {},
   "outputs": [
    {
     "name": "stdout",
     "output_type": "stream",
     "text": [
      "<xarray.DataArray (x: 2, y: 3)> Size: 48B\n",
      "array([[-0.59312836, -0.33274616, -0.60990462],\n",
      "       [ 0.30025129,  0.10275312,  0.98056383]])\n",
      "Coordinates:\n",
      "  * x        (x) int64 16B 10 20\n",
      "Dimensions without coordinates: y\n"
     ]
    }
   ],
   "source": [
    "data = xr.DataArray(np.random.randn(2, 3), dims=(\"x\", \"y\"), coords={\"x\": [10, 20]})\n",
    "print(data)"
   ]
  },
  {
   "cell_type": "code",
   "execution_count": 10,
   "id": "04cc0928",
   "metadata": {},
   "outputs": [
    {
     "name": "stdout",
     "output_type": "stream",
     "text": [
      "<xarray.DataArray (models: 3, ouptus: 2)> Size: 48B\n",
      "array([[ 0.16279636, -1.68150281],\n",
      "       [ 0.35403153,  0.55044644],\n",
      "       [-1.13053564,  1.82362822]])\n",
      "Coordinates:\n",
      "  * models   (models) <U11 132B 'growth_rate' 'frequency' 'fluxes'\n",
      "  * ouptus   (ouptus) <U5 40B 'value' 'error'\n",
      "<xarray.DataArray ()> Size: 8B\n",
      "array(-1.68150281)\n",
      "Coordinates:\n",
      "    models   <U11 44B 'growth_rate'\n",
      "    ouptus   <U5 20B 'error'\n"
     ]
    }
   ],
   "source": [
    "# trying to create the strcture of the output I need\n",
    "data = xr.DataArray(np.random.randn(3, 2), dims=(\"models\", \"ouptus\"), coords={\"models\": [\"growth_rate\", \"frequency\",\"fluxes\"], \"ouptus\": [\"value\", \"error\"]})\n",
    "print(data)\n",
    "print(data.sel(models=\"growth_rate\").sel(ouptus=\"error\"))"
   ]
  },
  {
   "cell_type": "code",
   "execution_count": null,
   "id": "19fd0989",
   "metadata": {},
   "outputs": [
    {
     "name": "stdout",
     "output_type": "stream",
     "text": [
      "<xarray.DataArray (models: 4, ouptus: 2, outputs: 2)> Size: 128B\n",
      "array([[[ 0.16279636,  0.16279636],\n",
      "        [-1.68150281, -1.68150281]],\n",
      "\n",
      "       [[ 0.35403153,  0.35403153],\n",
      "        [ 0.55044644,  0.55044644]],\n",
      "\n",
      "       [[-1.13053564, -1.13053564],\n",
      "        [ 1.82362822,  1.82362822]],\n",
      "\n",
      "       [[ 1.23      ,  0.05      ],\n",
      "        [ 1.23      ,  0.05      ]]])\n",
      "Coordinates:\n",
      "  * models   (models) <U11 176B 'growth_rate' 'frequency' 'fluxes' 'temperature'\n",
      "  * ouptus   (ouptus) <U5 40B 'value' 'error'\n",
      "  * outputs  (outputs) <U5 40B 'value' 'error'\n"
     ]
    }
   ],
   "source": [
    "# add a new model, thank you chat gpt:\n",
    "new_model = xr.DataArray(\n",
    "    np.array([[1.23, 0.05]]),  # shape (1, 2)\n",
    "    dims=(\"models\", \"outputs\"),\n",
    "    coords={\n",
    "        \"models\": [\"temperature\"],\n",
    "        \"outputs\": [\"value\", \"error\"]\n",
    "    }\n",
    ")\n",
    "\n",
    "# Concatenate along the 'models' dimension\n",
    "data = xr.concat([data, new_model], dim=\"models\")\n",
    "print(data)\n"
   ]
  }
 ],
 "metadata": {
  "kernelspec": {
   "display_name": ".venv",
   "language": "python",
   "name": "python3"
  },
  "language_info": {
   "codemirror_mode": {
    "name": "ipython",
    "version": 3
   },
   "file_extension": ".py",
   "mimetype": "text/x-python",
   "name": "python",
   "nbconvert_exporter": "python",
   "pygments_lexer": "ipython3",
   "version": "3.13.7"
  }
 },
 "nbformat": 4,
 "nbformat_minor": 5
}
