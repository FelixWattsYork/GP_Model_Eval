{
 "cells": [
  {
   "cell_type": "code",
   "execution_count": 10,
   "id": "bb382042",
   "metadata": {},
   "outputs": [],
   "source": [
    "import pandas as pd\n",
    "import os\n",
    "import sys\n",
    "import torch\n",
    "from pyrokinetics import Pyro, PyroScan\n",
    "import numpy as np\n",
    "from pathlib import Path"
   ]
  },
  {
   "cell_type": "code",
   "execution_count": 2,
   "id": "eeb19e2e",
   "metadata": {},
   "outputs": [
    {
     "name": "stdout",
     "output_type": "stream",
     "text": [
      "M12  doesnt exist\n",
      "M32  doesnt exist\n",
      "Loading:  /home/Felix/Documents/Physics_Work/Project_Codes/UKAEAdigiLab_FullGyro/8d_loRes/output_growth_rate_log_warping_True_kernel_M52.pt\n",
      "M12  doesnt exist\n",
      "Loading:  /home/Felix/Documents/Physics_Work/Project_Codes/UKAEAdigiLab_FullGyro/8d_loRes/output_mode_frequency_log_warping_True_kernel_M32.pt\n",
      "M52  doesnt exist\n",
      "M12  doesnt exist\n",
      "Loading:  /home/Felix/Documents/Physics_Work/Project_Codes/UKAEAdigiLab_FullGyro/8d_loRes/output_kperp2_phi_log_warping_True_kernel_M32.pt\n",
      "M52  doesnt exist\n",
      "Loading:  /home/Felix/Documents/Physics_Work/Project_Codes/UKAEAdigiLab_FullGyro/8d_loRes/output_kperp2_apa_log_warping_True_kernel_M12.pt\n",
      "M32  doesnt exist\n",
      "M52  doesnt exist\n",
      "Loading:  /home/Felix/Documents/Physics_Work/Project_Codes/UKAEAdigiLab_FullGyro/8d_loRes/output_kperp2_bpar_log_warping_True_kernel_M12.pt\n",
      "M32  doesnt exist\n",
      "M52  doesnt exist\n",
      "M12  doesnt exist\n",
      "M32  doesnt exist\n",
      "Loading:  /home/Felix/Documents/Physics_Work/Project_Codes/UKAEAdigiLab_FullGyro/8d_loRes/output_totIonFlux_log_warping_True_kernel_M52.pt\n",
      "M12  doesnt exist\n",
      "Loading:  /home/Felix/Documents/Physics_Work/Project_Codes/UKAEAdigiLab_FullGyro/8d_loRes/output_totElecFlux_log_warping_True_kernel_M32.pt\n",
      "M52  doesnt exist\n",
      "Loading:  /home/Felix/Documents/Physics_Work/Project_Codes/UKAEAdigiLab_FullGyro/8d_loRes/output_totPartFlux_log_warping_True_kernel_M12.pt\n",
      "M32  doesnt exist\n",
      "M52  doesnt exist\n",
      "M12  doesnt exist\n",
      "Loading:  /home/Felix/Documents/Physics_Work/Project_Codes/UKAEAdigiLab_FullGyro/8d_loRes/output_apa_phi_log_warping_True_kernel_M32.pt\n",
      "M52  doesnt exist\n",
      "M12  doesnt exist\n",
      "Loading:  /home/Felix/Documents/Physics_Work/Project_Codes/UKAEAdigiLab_FullGyro/8d_loRes/output_bpar_phi_log_warping_True_kernel_M32.pt\n",
      "M52  doesnt exist\n",
      "All models loaded\n"
     ]
    }
   ],
   "source": [
    "# helperfunctions path\n",
    "sys.path.append(\"/home/Felix/Documents/Physics_Work/Project_Codes/UKAEAdigiLab_FullGyro/digiLabScripts/\")\n",
    "import helperfunctions as hf\n",
    "\n",
    "# models path\n",
    "models_path = \"/home/Felix/Documents/Physics_Work/Project_Codes/UKAEAdigiLab_FullGyro/8d_loRes/\"\n",
    "models,name = hf.LoadModels(models_path)\n"
   ]
  },
  {
   "cell_type": "code",
   "execution_count": 15,
   "id": "30db16b2",
   "metadata": {},
   "outputs": [],
   "source": [
    "Template_Path = \"/home/Felix/Documents/Physics_Work/Project_Codes/GP_Model_Eval/GS2/Templates/r1.in\"\n",
    "project_dir = Path(\"/home/Felix/Documents/Physics_Work/Project_Codes/GP_Model_Eval\")\n"
   ]
  },
  {
   "cell_type": "code",
   "execution_count": 16,
   "id": "ef158940",
   "metadata": {},
   "outputs": [],
   "source": [
    "def Read_from_gs2(step_run):\n",
    "\n",
    "    in_loc = project_dir / \"GS2\" / \"Templates\" / step_run / \"gs2.in\"\n",
    "\n",
    "    pyro = Pyro(gk_file=in_loc, gk_code=\"GS2\")\n",
    "\n",
    "\n",
    "    pyro.gk_code = \"TGLF\"\n",
    "\n",
    "    pyro.numerics.nonlinear = True\n",
    "\n",
    "    # Use existing parameter with more realistic ky range\n",
    "    param_1 = \"ky\" \n",
    "    values_1 = np.arange(0.1, 1, 0.1)/pyro.norms.pyrokinetics.rhoref\n",
    "    \n",
    "    # Add beta parameter with realistic values\n",
    "    param_2 = \"gamma_exb\"\n",
    "    values_2 = np.arange(0, 0.2, 0.1)*pyro.norms.pyrokinetics.vref/pyro.norms.pyrokinetics.lref\n",
    "  \n",
    "    # Dictionary of param and values\n",
    "    param_dict = {param_1: values_1, param_2: values_2}\n",
    "  \n",
    "\n",
    "    # Create PyroScan object with more descriptive naming\n",
    "    pyro_scan = PyroScan(\n",
    "        pyro,\n",
    "        param_dict,\n",
    "        value_fmt=\".4f\",  # Increased precision for small beta values\n",
    "        value_separator=\"_\",\n",
    "        parameter_separator=\"_\",\n",
    "    )\n",
    "\n",
    "    # Add proper parameter mapping for beta\n",
    "    pyro_scan.add_parameter_key(\n",
    "        parameter_key=\"gamma_exb\",\n",
    "        parameter_attr=\"numerics\", \n",
    "        parameter_location=[\"gamma_exb\"]\n",
    "    )\n",
    "\n",
    "    # Create scan directory and write input files\n",
    "    try:\n",
    "        pyro_scan.write(\n",
    "            file_name=\"input.tglf\",\n",
    "            base_directory=project_dir / \"TGLF_Runs\" / step_run ,\n",
    "            template_file=None\n",
    "        )\n",
    "    except Exception as e:\n",
    "        print(f\"Error writing parameter scan files: {e}\")\n",
    "        return None\n",
    "\n",
    "    return pyro_scan"
   ]
  },
  {
   "cell_type": "code",
   "execution_count": null,
   "id": "14d2af4d",
   "metadata": {},
   "outputs": [
    {
     "name": "stderr",
     "output_type": "stream",
     "text": [
      "/home/Felix/Documents/Physics_Work/Project_Codes/GP_Model_Eval/pyrokinetics/src/pyrokinetics/pyro.py:1651: UserWarning: Explicitly set value of beta (0.09092868468130633 beta_ref_ee_B0) is inconsistent with value from physical reference values (0.09609377154804474 beta_ref_ee_B0)\n",
      "  warnings.warn(\n",
      "/home/Felix/Documents/Physics_Work/Project_Codes/GP_Model_Eval/pyrokinetics/src/pyrokinetics/pyro.py:345: UserWarning: Setting gk_code to TGLF without first reading a gyrokinetics file of that type. Creating a new context using the default template file for TGLF and data from the previous context (if available).\n",
      "  warnings.warn(warn_msg, UserWarning)\n"
     ]
    },
    {
     "name": "stdout",
     "output_type": "stream",
     "text": [
      "<pyrokinetics.pyroscan.PyroScan object at 0x767b99c20690>\n"
     ]
    }
   ],
   "source": []
  }
 ],
 "metadata": {
  "kernelspec": {
   "display_name": ".venv",
   "language": "python",
   "name": "python3"
  },
  "language_info": {
   "codemirror_mode": {
    "name": "ipython",
    "version": 3
   },
   "file_extension": ".py",
   "mimetype": "text/x-python",
   "name": "python",
   "nbconvert_exporter": "python",
   "pygments_lexer": "ipython3",
   "version": "3.13.7"
  }
 },
 "nbformat": 4,
 "nbformat_minor": 5
}
