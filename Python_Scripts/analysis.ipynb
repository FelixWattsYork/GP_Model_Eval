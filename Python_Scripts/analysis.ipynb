{
 "cells": [
  {
   "cell_type": "code",
   "execution_count": 2,
   "id": "7035d520",
   "metadata": {},
   "outputs": [],
   "source": [
    "from pyrokinetics import Pyro,PyroScan\n",
    "from pathlib import Path\n",
    "import numpy as np\n",
    "import subprocess\n",
    "import os\n",
    "import matplotlib.pyplot as plt"
   ]
  },
  {
   "cell_type": "code",
   "execution_count": 6,
   "id": "97f19a11",
   "metadata": {},
   "outputs": [],
   "source": [
    "tglf_file = \"/home/Felix/Documents/Physics_Work/Project_Codes/GP_Model_Eval/TGLF_Runs/SPR-045/ky_0.1000_gamma_exb_0.1000/input.tglf\"\n",
    "\n",
    "pyro = Pyro(gk_file=tglf_file, gk_code=\"TGLF\")"
   ]
  },
  {
   "cell_type": "code",
   "execution_count": 7,
   "id": "1635ec68",
   "metadata": {},
   "outputs": [
    {
     "name": "stderr",
     "output_type": "stream",
     "text": [
      "/home/Felix/Documents/Physics_Work/Project_Codes/GP_Model_Eval/.venv/lib/python3.13/site-packages/xarray/backends/api.py:651: RuntimeWarning: 'netcdf4' fails while guessing\n",
      "  engine = plugins.guess_engine(filename_or_obj)\n",
      "/home/Felix/Documents/Physics_Work/Project_Codes/GP_Model_Eval/.venv/lib/python3.13/site-packages/xarray/backends/api.py:651: RuntimeWarning: 'scipy' fails while guessing\n",
      "  engine = plugins.guess_engine(filename_or_obj)\n",
      "/home/Felix/Documents/Physics_Work/Project_Codes/GP_Model_Eval/.venv/lib/python3.13/site-packages/xarray/backends/api.py:651: RuntimeWarning: 'h5netcdf' fails while guessing\n",
      "  engine = plugins.guess_engine(filename_or_obj)\n"
     ]
    }
   ],
   "source": [
    "pyro.load_gk_output()"
   ]
  },
  {
   "cell_type": "code",
   "execution_count": 8,
   "id": "1ed7b98e",
   "metadata": {},
   "outputs": [
    {
     "name": "stdout",
     "output_type": "stream",
     "text": [
      "<xarray.Dataset> Size: 7kB\n",
      "Dimensions:         (ky: 21, mode: 2, field: 3, species: 3, time: 1, kx: 1,\n",
      "                     flux: 3)\n",
      "Coordinates:\n",
      "  * time            (time) float64 8B 0.0\n",
      "  * kx              (kx) float64 8B 0.0\n",
      "  * ky              (ky) float64 168B 0.0984 0.1968 0.2952 ... 13.54 18.11 24.24\n",
      "  * mode            (mode) int64 16B 0 1\n",
      "  * species         (species) <U8 96B 'electron' 'ion1' 'ion2'\n",
      "  * field           (field) <U4 48B 'phi' 'apar' 'bpar'\n",
      "  * flux            (flux) <U8 96B 'particle' 'heat' 'momentum'\n",
      "Data variables:\n",
      "    phi             (ky, mode) float64 336B [([tref] / [mref])**(0.5) * [mref] / [bref_B0])·tref_electron/e/lref_minor_radius] ...\n",
      "    apar            (ky, mode) float64 336B [bref_B0·([tref] / [mref])**(0.5) * [mref] / [bref_B0])²/lref_minor_radius] ...\n",
      "    bpar            (ky, mode) float64 336B [bref_B0·([tref] / [mref])**(0.5) * [mref] / [bref_B0])/lref_minor_radius] ...\n",
      "    particle        (field, species, ky) float64 2kB [nref_electron·([tref] / [mref])**(0.5) * [mref] / [bref_B0])²·([tref] / [mref])**(0.5)/lref_minor_radius²] ...\n",
      "    heat            (field, species, ky) float64 2kB [nref_electron·([tref] / [mref])**(0.5) * [mref] / [bref_B0])²·tref_electron·([tref] / [mref])**(0.5)/lref_minor_radius²] ...\n",
      "    momentum        (field, species, ky) float64 2kB [nref_electron·([tref] / [mref])**(0.5) * [mref] / [bref_B0])²·tref_electron/lref_minor_radius] ...\n",
      "    growth_rate     (ky, mode) float64 336B [([tref] / [mref])**(0.5)/lref_minor_radius] ...\n",
      "    mode_frequency  (ky, mode) float64 336B [([tref] / [mref])**(0.5)/lref_minor_radius] ...\n",
      "    eigenvalues     (ky, mode) complex128 672B [([tref] / [mref])**(0.5)/lref_minor_radius] ...\n",
      "Attributes: (12/13)\n",
      "    linear:            False\n",
      "    gk_code:           TGLF\n",
      "    input_file:        USE_TRANSPORT_MODEL = T\\nNS = 3\\nGEOMETRY_FLAG = 1\\nUS...\n",
      "    attribute_units:   {}\n",
      "    title:             GKOutput\n",
      "    software_name:     Pyrokinetics\n",
      "    ...                ...\n",
      "    object_type:       GKOutput\n",
      "    object_uuid:       d1692adf-eac4-49e7-ae20-d6cab4545ba7\n",
      "    object_created:    2025-10-20 12:05:14.051001\n",
      "    session_uuid:      37c7bd94-0eda-4cf5-8701-fcfb73729928\n",
      "    session_started:   2025-10-20 12:04:45.344134\n",
      "    netcdf4_version:   1.7.2\n"
     ]
    }
   ],
   "source": [
    "print(pyro.gk_output.data)"
   ]
  }
 ],
 "metadata": {
  "kernelspec": {
   "display_name": ".venv",
   "language": "python",
   "name": "python3"
  },
  "language_info": {
   "codemirror_mode": {
    "name": "ipython",
    "version": 3
   },
   "file_extension": ".py",
   "mimetype": "text/x-python",
   "name": "python",
   "nbconvert_exporter": "python",
   "pygments_lexer": "ipython3",
   "version": "3.13.7"
  }
 },
 "nbformat": 4,
 "nbformat_minor": 5
}
