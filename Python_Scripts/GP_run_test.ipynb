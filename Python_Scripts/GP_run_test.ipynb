{
 "cells": [
  {
   "cell_type": "code",
   "execution_count": 8,
   "id": "9b48f560",
   "metadata": {},
   "outputs": [],
   "source": [
    "import pandas as pd\n",
    "import os\n",
    "import sys\n",
    "import torch"
   ]
  },
  {
   "cell_type": "code",
   "execution_count": 9,
   "id": "44c1a75c",
   "metadata": {},
   "outputs": [
    {
     "name": "stdout",
     "output_type": "stream",
     "text": [
      "M12  doesnt exist\n",
      "M32  doesnt exist\n",
      "Loading:  /home/Felix/Documents/Physics_Work/Project_Codes/UKAEAdigiLab_FullGyro/8d_loRes/output_growth_rate_log_warping_True_kernel_M52.pt\n",
      "M12  doesnt exist\n",
      "Loading:  /home/Felix/Documents/Physics_Work/Project_Codes/UKAEAdigiLab_FullGyro/8d_loRes/output_mode_frequency_log_warping_True_kernel_M32.pt\n",
      "M52  doesnt exist\n",
      "M12  doesnt exist\n",
      "Loading:  /home/Felix/Documents/Physics_Work/Project_Codes/UKAEAdigiLab_FullGyro/8d_loRes/output_growth_rate_log_warping_True_kernel_M52.pt\n",
      "M12  doesnt exist\n",
      "Loading:  /home/Felix/Documents/Physics_Work/Project_Codes/UKAEAdigiLab_FullGyro/8d_loRes/output_mode_frequency_log_warping_True_kernel_M32.pt\n",
      "M52  doesnt exist\n",
      "M12  doesnt exist\n",
      "Loading:  /home/Felix/Documents/Physics_Work/Project_Codes/UKAEAdigiLab_FullGyro/8d_loRes/output_kperp2_phi_log_warping_True_kernel_M32.pt\n",
      "M52  doesnt exist\n",
      "Loading:  /home/Felix/Documents/Physics_Work/Project_Codes/UKAEAdigiLab_FullGyro/8d_loRes/output_kperp2_apa_log_warping_True_kernel_M12.pt\n",
      "M32  doesnt exist\n",
      "M52  doesnt exist\n",
      "Loading:  /home/Felix/Documents/Physics_Work/Project_Codes/UKAEAdigiLab_FullGyro/8d_loRes/output_kperp2_bpar_log_warping_True_kernel_M12.pt\n",
      "M32  doesnt exist\n",
      "M52  doesnt exist\n",
      "M12  doesnt exist\n",
      "M32  doesnt exist\n",
      "Loading:  /home/Felix/Documents/Physics_Work/Project_Codes/UKAEAdigiLab_FullGyro/8d_loRes/output_totIonFlux_log_warping_True_kernel_M52.pt\n",
      "M12  doesnt exist\n",
      "Loading:  /home/Felix/Documents/Physics_Work/Project_Codes/UKAEAdigiLab_FullGyro/8d_loRes/output_totElecFlux_log_warping_True_kernel_M32.pt\n",
      "M52  doesnt exist\n",
      "Loading:  /home/Felix/Documents/Physics_Work/Project_Codes/UKAEAdigiLab_FullGyro/8d_loRes/output_totPartFlux_log_warping_True_kernel_M12.pt\n",
      "M32  doesnt exist\n",
      "M52  doesnt exist\n",
      "M12  doesnt exist\n",
      "Loading:  /home/Felix/Documents/Physics_Work/Project_Codes/UKAEAdigiLab_FullGyro/8d_loRes/output_apa_phi_log_warping_True_kernel_M32.pt\n",
      "M52  doesnt exist\n",
      "M12  doesnt exist\n",
      "Loading:  /home/Felix/Documents/Physics_Work/Project_Codes/UKAEAdigiLab_FullGyro/8d_loRes/output_bpar_phi_log_warping_True_kernel_M32.pt\n",
      "M52  doesnt exist\n",
      "All models loaded\n",
      "Loading:  /home/Felix/Documents/Physics_Work/Project_Codes/UKAEAdigiLab_FullGyro/8d_loRes/output_kperp2_phi_log_warping_True_kernel_M32.pt\n",
      "M52  doesnt exist\n",
      "Loading:  /home/Felix/Documents/Physics_Work/Project_Codes/UKAEAdigiLab_FullGyro/8d_loRes/output_kperp2_apa_log_warping_True_kernel_M12.pt\n",
      "M32  doesnt exist\n",
      "M52  doesnt exist\n",
      "Loading:  /home/Felix/Documents/Physics_Work/Project_Codes/UKAEAdigiLab_FullGyro/8d_loRes/output_kperp2_bpar_log_warping_True_kernel_M12.pt\n",
      "M32  doesnt exist\n",
      "M52  doesnt exist\n",
      "M12  doesnt exist\n",
      "M32  doesnt exist\n",
      "Loading:  /home/Felix/Documents/Physics_Work/Project_Codes/UKAEAdigiLab_FullGyro/8d_loRes/output_totIonFlux_log_warping_True_kernel_M52.pt\n",
      "M12  doesnt exist\n",
      "Loading:  /home/Felix/Documents/Physics_Work/Project_Codes/UKAEAdigiLab_FullGyro/8d_loRes/output_totElecFlux_log_warping_True_kernel_M32.pt\n",
      "M52  doesnt exist\n",
      "Loading:  /home/Felix/Documents/Physics_Work/Project_Codes/UKAEAdigiLab_FullGyro/8d_loRes/output_totPartFlux_log_warping_True_kernel_M12.pt\n",
      "M32  doesnt exist\n",
      "M52  doesnt exist\n",
      "M12  doesnt exist\n",
      "Loading:  /home/Felix/Documents/Physics_Work/Project_Codes/UKAEAdigiLab_FullGyro/8d_loRes/output_apa_phi_log_warping_True_kernel_M32.pt\n",
      "M52  doesnt exist\n",
      "M12  doesnt exist\n",
      "Loading:  /home/Felix/Documents/Physics_Work/Project_Codes/UKAEAdigiLab_FullGyro/8d_loRes/output_bpar_phi_log_warping_True_kernel_M32.pt\n",
      "M52  doesnt exist\n",
      "All models loaded\n"
     ]
    }
   ],
   "source": [
    "# helperfunctions path\n",
    "sys.path.append(\"/home/Felix/Documents/Physics_Work/Project_Codes/UKAEAdigiLab_FullGyro/digiLabScripts/\")\n",
    "import helperfunctions as hf\n",
    "\n",
    "# models path\n",
    "models_path = \"/home/Felix/Documents/Physics_Work/Project_Codes/UKAEAdigiLab_FullGyro/8d_loRes/\"\n",
    "models,name = hf.LoadModels(models_path)"
   ]
  },
  {
   "cell_type": "code",
   "execution_count": null,
   "id": "d93394c3",
   "metadata": {},
   "outputs": [],
   "source": [
    "import torch\n",
    "input_parameters = [\"ky_log\",\n",
    "                    \"q\",\n",
    "                    \"shat\", # magnetic shear\n",
    "                    \"beta\",\n",
    "                    \"deuterium_temp_gradient\",\n",
    "                    \"electron_temp_gradient\",\n",
    "                    \"electron_dens_gradient\",\n",
    "                    \"electron_nu\"] # Electron electron collision frequency\n",
    "\n",
    "#Add some test inputs\n",
    "inputs = torch.Tensor([[-8.9103e-01,  5.3907e+00,  2.4730e+00,  7.0042e-02,  4.3586e+00,\n",
    "          2.3319e+00,  4.5407e+00,  5.8862e-03]])\n"
   ]
  },
  {
   "cell_type": "code",
   "execution_count": 14,
   "id": "cab96e85",
   "metadata": {},
   "outputs": [],
   "source": [
    "growth_rate_log,growth_rate_err_log = models[\"growth_rate_log\"](inputs)\n",
    "model_frequency_log,model_frequency_err_log = models[\"mode_frequency_log\"](inputs)\n"
   ]
  },
  {
   "cell_type": "code",
   "execution_count": null,
   "id": "db1b4800",
   "metadata": {},
   "outputs": [
    {
     "name": "stdout",
     "output_type": "stream",
     "text": [
      "Predicted growth rate (log):  tensor([[-0.8440]], dtype=torch.float64)\n",
      "Predicted growth rate error (log):  tensor([[0.1036]], dtype=torch.float64)\n",
      "Predicted mode frequency (log):  tensor([[-0.9496]], dtype=torch.float64)\n",
      "Predicted mode frequency error (log):  tensor([[0.3779]], dtype=torch.float64)\n"
     ]
    }
   ],
   "source": [
    "#Gave Sensible outputs\n",
    "print(\"Predicted growth rate (log): \", growth_rate_log)\n",
    "print(\"Predicted growth rate error (log): \", growth_rate_err_log)\n",
    "print(\"Predicted mode frequency (log): \", model_frequency_log)\n",
    "print(\"Predicted mode frequency error (log): \", model_frequency_err_log)"
   ]
  }
 ],
 "metadata": {
  "kernelspec": {
   "display_name": ".venv",
   "language": "python",
   "name": "python3"
  },
  "language_info": {
   "codemirror_mode": {
    "name": "ipython",
    "version": 3
   },
   "file_extension": ".py",
   "mimetype": "text/x-python",
   "name": "python",
   "nbconvert_exporter": "python",
   "pygments_lexer": "ipython3",
   "version": "3.13.7"
  }
 },
 "nbformat": 4,
 "nbformat_minor": 5
}
